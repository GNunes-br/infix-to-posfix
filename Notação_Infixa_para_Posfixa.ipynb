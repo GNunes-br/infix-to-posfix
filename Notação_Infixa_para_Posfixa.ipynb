{
  "nbformat": 4,
  "nbformat_minor": 0,
  "metadata": {
    "colab": {
      "provenance": [],
      "authorship_tag": "ABX9TyPn8qO5OfSHUZIiW0RP6BZi",
      "include_colab_link": true
    },
    "kernelspec": {
      "name": "python3",
      "display_name": "Python 3"
    },
    "language_info": {
      "name": "python"
    }
  },
  "cells": [
    {
      "cell_type": "markdown",
      "metadata": {
        "id": "view-in-github",
        "colab_type": "text"
      },
      "source": [
        "<a href=\"https://colab.research.google.com/github/GNunes-br/infix-to-posfix/blob/main/Nota%C3%A7%C3%A3o_Infixa_para_Posfixa.ipynb\" target=\"_parent\"><img src=\"https://colab.research.google.com/assets/colab-badge.svg\" alt=\"Open In Colab\"/></a>"
      ]
    },
    {
      "cell_type": "markdown",
      "source": [
        "Exemplo:\n",
        "\n",
        "<img src=\"https://www.techiedelight.com/wp-content/uploads/Infix-To-Postfix.png\" height=\"500px\"/>\n",
        "\n"
      ],
      "metadata": {
        "id": "K3u_nbk882zZ"
      }
    },
    {
      "cell_type": "code",
      "execution_count": null,
      "metadata": {
        "id": "BwWmh1gy-rMv"
      },
      "outputs": [],
      "source": [
        "OPERADORES = ['(', ')', '^', '*', '/', '+', '-']"
      ]
    },
    {
      "cell_type": "code",
      "source": [
        "PRIORIDADES = {\n",
        "    '(': 1,\n",
        "    ')': 1,\n",
        "    '^': 2,\n",
        "    '*': 3,\n",
        "    '/': 3,\n",
        "    '+': 4,\n",
        "    '-': 4,\n",
        "}"
      ],
      "metadata": {
        "id": "8F7C0G40CkMG"
      },
      "execution_count": null,
      "outputs": []
    },
    {
      "cell_type": "code",
      "source": [
        "class Posfix:\n",
        "  def __init__(self, infix, pilha = [], posfix = ''):\n",
        "\n",
        "    for caracter in infix:\n",
        "      if caracter in OPERADORES:\n",
        "        # Adiciona o operador na pilha caso ela esteja vazia\n",
        "        if not pilha:\n",
        "          pilha.append(caracter)\n",
        "\n",
        "          continue\n",
        "\n",
        "        # Adiciona o operador caso o topo da pilha seja a abertura de um parêntese\n",
        "        elif pilha[-1] == '(':\n",
        "          pilha.append(caracter)\n",
        "\n",
        "          continue\n",
        "\n",
        "        # Desempilha todos os operadores até a abertura do parêntese lida anteriormente\n",
        "        elif caracter == ')':\n",
        "          while pilha[-1] != '(':\n",
        "            posfix = posfix + pilha.pop()\n",
        "\n",
        "          pilha.pop()\n",
        "\n",
        "          continue\n",
        "\n",
        "        # Substitui o topo da pilha caso a prioridade seja igual entre as operações\n",
        "        elif PRIORIDADES[caracter] == PRIORIDADES[pilha[-1]]:\n",
        "          posfix = posfix + pilha.pop()\n",
        "          pilha.append(caracter)\n",
        "\n",
        "          continue\n",
        "\n",
        "        # Empilha o operador caso sua prioridade seja maior que o topo da pilha\n",
        "        elif PRIORIDADES[caracter] < PRIORIDADES[pilha[-1]]:\n",
        "          pilha.append(caracter)\n",
        "\n",
        "          continue\n",
        "\n",
        "        # Desempilha enquanto a pilha estiver cheia e seu topo for diferente da abertura de parêntese\n",
        "        # Empilha operação lida\n",
        "        else:\n",
        "          while pilha and pilha[-1] != '(':\n",
        "            posfix = posfix + pilha.pop()\n",
        "          pilha.append(caracter)\n",
        "\n",
        "          continue\n",
        "\n",
        "      posfix = posfix + caracter\n",
        "\n",
        "    while pilha:\n",
        "      posfix = posfix + pilha.pop()\n",
        "\n",
        "    print(posfix)"
      ],
      "metadata": {
        "id": "zd23sSoKCZJD"
      },
      "execution_count": null,
      "outputs": []
    },
    {
      "cell_type": "code",
      "source": [
        "Posfix('A*(B*C+D*E)+F')\n",
        "\n",
        "# A B C * D E * + * F +"
      ],
      "metadata": {
        "colab": {
          "base_uri": "https://localhost:8080/"
        },
        "id": "9aWnyeyFAnYf",
        "outputId": "5bb2fefe-1829-46e9-cd39-881648884e9f"
      },
      "execution_count": null,
      "outputs": [
        {
          "output_type": "stream",
          "name": "stdout",
          "text": [
            "ABC*DE*+*F+\n"
          ]
        },
        {
          "output_type": "execute_result",
          "data": {
            "text/plain": [
              "<__main__.Posfix at 0x7fcf50150e20>"
            ]
          },
          "metadata": {},
          "execution_count": 141
        }
      ]
    },
    {
      "cell_type": "code",
      "source": [
        "Posfix('1/2*3+4*5-1*3')\n",
        "\n",
        "# 1 2 / 3 * 4 5 * + 1 3 * -"
      ],
      "metadata": {
        "colab": {
          "base_uri": "https://localhost:8080/"
        },
        "outputId": "537b676e-6301-4ac6-a5e2-463cf10218dd",
        "id": "c5RTxeFz96fF"
      },
      "execution_count": null,
      "outputs": [
        {
          "output_type": "stream",
          "name": "stdout",
          "text": [
            "12/3*45*+13*-\n"
          ]
        },
        {
          "output_type": "execute_result",
          "data": {
            "text/plain": [
              "<__main__.Posfix at 0x7fcf2b64ea60>"
            ]
          },
          "metadata": {},
          "execution_count": 142
        }
      ]
    },
    {
      "cell_type": "code",
      "source": [
        "Posfix('A-B/C^D+E')\n",
        "\n",
        "# A B C D ^ / - E +"
      ],
      "metadata": {
        "colab": {
          "base_uri": "https://localhost:8080/"
        },
        "id": "MRqsKUigH7Kb",
        "outputId": "66d368f7-8a73-4169-9095-d95553b2d587"
      },
      "execution_count": null,
      "outputs": [
        {
          "output_type": "stream",
          "name": "stdout",
          "text": [
            "ABCD^/-E+\n"
          ]
        },
        {
          "output_type": "execute_result",
          "data": {
            "text/plain": [
              "<__main__.Posfix at 0x7fcf2b64e2e0>"
            ]
          },
          "metadata": {},
          "execution_count": 143
        }
      ]
    },
    {
      "cell_type": "code",
      "source": [
        "Posfix('(A+B)/C')\n",
        "# A B + C /"
      ],
      "metadata": {
        "colab": {
          "base_uri": "https://localhost:8080/"
        },
        "id": "fAUNAFscI8sb",
        "outputId": "60d8b1a0-af5a-4953-948a-01457c38ff6a"
      },
      "execution_count": null,
      "outputs": [
        {
          "output_type": "stream",
          "name": "stdout",
          "text": [
            "AB+C/\n"
          ]
        },
        {
          "output_type": "execute_result",
          "data": {
            "text/plain": [
              "<__main__.Posfix at 0x7fcf2b5dd340>"
            ]
          },
          "metadata": {},
          "execution_count": 144
        }
      ]
    }
  ]
}